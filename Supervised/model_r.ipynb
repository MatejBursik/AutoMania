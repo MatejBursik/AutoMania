{
 "cells": [
  {
   "cell_type": "code",
   "execution_count": 6,
   "metadata": {},
   "outputs": [],
   "source": [
    "import os\n",
    "from fastai.vision.all import *\n",
    "import pandas as pd\n",
    "import torch\n",
    "import torch.nn as nn"
   ]
  },
  {
   "cell_type": "code",
   "execution_count": 7,
   "metadata": {},
   "outputs": [],
   "source": [
    "# Base path to the data folder\n",
    "base_data_path = Path('data')\n",
    "\n",
    "# Initialize an empty DataFrame to store all the data\n",
    "combined_df = pd.DataFrame()\n",
    "\n",
    "# List all the folders in the base directory\n",
    "folders = [f for f in os.listdir(base_data_path) if os.path.isdir(base_data_path/f)]\n",
    "\n",
    "# Loop through each folder and load CSVs and image paths\n",
    "for folder in folders:\n",
    "    folder_path = base_data_path/folder\n",
    "    \n",
    "    # Load the CSV file (assumed to be named 'controls.csv')\n",
    "    csv_file = folder_path/'controls.csv'\n",
    "    if csv_file.exists():\n",
    "        df = pd.read_csv(csv_file)\n",
    "        \n",
    "        # Get all image files that exist in the folder\n",
    "        image_files = {f for f in os.listdir(folder_path) if f.endswith('.jpg')}\n",
    "        \n",
    "        # Dynamically match each row with an actual image filename\n",
    "        def get_image_filename(i):\n",
    "            # Construct the expected filename\n",
    "            filename = f'frame_{i}.jpg'\n",
    "            # Only return the filename if it exists in the folder\n",
    "            if filename in image_files:\n",
    "                return folder_path/filename\n",
    "            else:\n",
    "                return None\n",
    "\n",
    "        # Apply the function to create a new column with actual image paths\n",
    "        df['frame'] = df.index.map(get_image_filename)\n",
    "        \n",
    "        # Filter out rows where no corresponding image file was found\n",
    "        df = df[df['frame'].notnull()]\n",
    "        \n",
    "        # Combine with the main DataFrame\n",
    "        combined_df = pd.concat([combined_df, df], ignore_index=True)\n",
    "\n",
    "# If combined_df is empty, raise an error\n",
    "if combined_df.empty:\n",
    "    raise FileNotFoundError(\"No valid image files found. Please check your data folders.\")\n",
    "\n",
    "# Define a function to get the control inputs for each image (as a tensor)\n",
    "def get_y(row):\n",
    "    return tensor([row['steering'], row['throttle'], row['brake']])\n",
    "\n",
    "# Define a function to get the image path for each row\n",
    "def get_x(row):\n",
    "    return row['frame']  # Path is already constructed in 'combined_df'\n",
    "\n",
    "# DataBlock for regression task\n",
    "dblock = DataBlock(\n",
    "    blocks=(ImageBlock, RegressionBlock),  # Images as input, continuous labels as output\n",
    "    get_x=get_x,  # Get image path\n",
    "    get_y=get_y,  # Get control inputs as a tensor\n",
    "    splitter=RandomSplitter(valid_pct=0.3),  # Split train/validation\n",
    ")\n",
    "\n",
    "# Create DataLoaders\n",
    "dls = dblock.dataloaders(combined_df)"
   ]
  },
  {
   "cell_type": "code",
   "execution_count": 18,
   "metadata": {},
   "outputs": [],
   "source": [
    "\n",
    "nfeatures = 512 # resnet34 has 512 features before the head\n",
    "features_out = 3 # throttle,steering,brake\n",
    "body = create_body(resnet34(), pretrained=True)\n",
    "\n",
    "head = create_head(nfeatures, features_out, ps=0.3) # ps is dropout rate\n",
    "\n",
    "model = nn.Sequential(body,head)\n",
    "\n",
    "\n"
   ]
  },
  {
   "cell_type": "code",
   "execution_count": 12,
   "metadata": {},
   "outputs": [
    {
     "ename": "TypeError",
     "evalue": "Sequential.forward() got an unexpected keyword argument 'pretrained'",
     "output_type": "error",
     "traceback": [
      "\u001b[1;31m---------------------------------------------------------------------------\u001b[0m",
      "\u001b[1;31mTypeError\u001b[0m                                 Traceback (most recent call last)",
      "Cell \u001b[1;32mIn[12], line 2\u001b[0m\n\u001b[0;32m      1\u001b[0m \u001b[38;5;66;03m# Define the learner with a pretrained ResNet model\u001b[39;00m\n\u001b[1;32m----> 2\u001b[0m learn \u001b[38;5;241m=\u001b[39m \u001b[43mvision_learner\u001b[49m\u001b[43m(\u001b[49m\n\u001b[0;32m      3\u001b[0m \u001b[43m    \u001b[49m\u001b[43mdls\u001b[49m\u001b[43m,\u001b[49m\u001b[43m \u001b[49m\n\u001b[0;32m      4\u001b[0m \u001b[43m    \u001b[49m\u001b[43mmodel\u001b[49m\u001b[43m,\u001b[49m\u001b[43m \u001b[49m\n\u001b[0;32m      5\u001b[0m \u001b[43m    \u001b[49m\u001b[43mloss_func\u001b[49m\u001b[38;5;241;43m=\u001b[39;49m\u001b[43mMSELossFlat\u001b[49m\u001b[43m(\u001b[49m\u001b[43m)\u001b[49m\u001b[43m,\u001b[49m\n\u001b[0;32m      6\u001b[0m \u001b[43m    \u001b[49m\u001b[43my_range\u001b[49m\u001b[38;5;241;43m=\u001b[39;49m\u001b[43m(\u001b[49m\u001b[38;5;241;43m-\u001b[39;49m\u001b[38;5;241;43m1.\u001b[39;49m\u001b[43m,\u001b[49m\u001b[43m \u001b[49m\u001b[38;5;241;43m1.\u001b[39;49m\u001b[43m)\u001b[49m\u001b[43m  \u001b[49m\u001b[38;5;66;43;03m# Adjust as needed based on the range of your control inputs\u001b[39;49;00m\n\u001b[0;32m      7\u001b[0m \u001b[43m)\u001b[49m\n\u001b[0;32m      9\u001b[0m learn\u001b[38;5;241m.\u001b[39mto_fp16()\n\u001b[0;32m     11\u001b[0m \u001b[38;5;66;03m# Fine-tune the model\u001b[39;00m\n",
      "File \u001b[1;32mc:\\Users\\robve.LAPTOP-PCBR1UJF\\AppData\\Local\\Programs\\Python\\Python310\\lib\\site-packages\\fastai\\vision\\learner.py:238\u001b[0m, in \u001b[0;36mvision_learner\u001b[1;34m(dls, arch, normalize, n_out, pretrained, weights, loss_func, opt_func, lr, splitter, cbs, metrics, path, model_dir, wd, wd_bn_bias, train_bn, moms, cut, init, custom_head, concat_pool, pool, lin_ftrs, ps, first_bn, bn_final, lin_first, y_range, **kwargs)\u001b[0m\n\u001b[0;32m    236\u001b[0m \u001b[38;5;28;01melse\u001b[39;00m:\n\u001b[0;32m    237\u001b[0m     \u001b[38;5;28;01mif\u001b[39;00m normalize: _add_norm(dls, meta, pretrained, n_in)\n\u001b[1;32m--> 238\u001b[0m     model \u001b[38;5;241m=\u001b[39m create_vision_model(arch, n_out, pretrained\u001b[38;5;241m=\u001b[39mpretrained, weights\u001b[38;5;241m=\u001b[39mweights, \u001b[38;5;241m*\u001b[39m\u001b[38;5;241m*\u001b[39mmodel_args)\n\u001b[0;32m    240\u001b[0m splitter \u001b[38;5;241m=\u001b[39m ifnone(splitter, meta[\u001b[38;5;124m'\u001b[39m\u001b[38;5;124msplit\u001b[39m\u001b[38;5;124m'\u001b[39m])\n\u001b[0;32m    241\u001b[0m learn \u001b[38;5;241m=\u001b[39m Learner(dls\u001b[38;5;241m=\u001b[39mdls, model\u001b[38;5;241m=\u001b[39mmodel, loss_func\u001b[38;5;241m=\u001b[39mloss_func, opt_func\u001b[38;5;241m=\u001b[39mopt_func, lr\u001b[38;5;241m=\u001b[39mlr, splitter\u001b[38;5;241m=\u001b[39msplitter, cbs\u001b[38;5;241m=\u001b[39mcbs,\n\u001b[0;32m    242\u001b[0m                metrics\u001b[38;5;241m=\u001b[39mmetrics, path\u001b[38;5;241m=\u001b[39mpath, model_dir\u001b[38;5;241m=\u001b[39mmodel_dir, wd\u001b[38;5;241m=\u001b[39mwd, wd_bn_bias\u001b[38;5;241m=\u001b[39mwd_bn_bias, train_bn\u001b[38;5;241m=\u001b[39mtrain_bn, moms\u001b[38;5;241m=\u001b[39mmoms)\n",
      "File \u001b[1;32mc:\\Users\\robve.LAPTOP-PCBR1UJF\\AppData\\Local\\Programs\\Python\\Python310\\lib\\site-packages\\fastai\\vision\\learner.py:174\u001b[0m, in \u001b[0;36mcreate_vision_model\u001b[1;34m(arch, n_out, pretrained, weights, cut, n_in, init, custom_head, concat_pool, pool, lin_ftrs, ps, first_bn, bn_final, lin_first, y_range)\u001b[0m\n\u001b[0;32m    172\u001b[0m     model \u001b[38;5;241m=\u001b[39m arch(weights\u001b[38;5;241m=\u001b[39mmeta[\u001b[38;5;124m'\u001b[39m\u001b[38;5;124mweights\u001b[39m\u001b[38;5;124m'\u001b[39m] \u001b[38;5;28;01mif\u001b[39;00m (weights \u001b[38;5;129;01mis\u001b[39;00m \u001b[38;5;28;01mNone\u001b[39;00m \u001b[38;5;129;01mand\u001b[39;00m pretrained) \u001b[38;5;28;01melse\u001b[39;00m weights)\n\u001b[0;32m    173\u001b[0m \u001b[38;5;28;01melse\u001b[39;00m:\n\u001b[1;32m--> 174\u001b[0m     model \u001b[38;5;241m=\u001b[39m \u001b[43march\u001b[49m\u001b[43m(\u001b[49m\u001b[43mpretrained\u001b[49m\u001b[38;5;241;43m=\u001b[39;49m\u001b[43mpretrained\u001b[49m\u001b[43m)\u001b[49m\n\u001b[0;32m    175\u001b[0m body \u001b[38;5;241m=\u001b[39m create_body(model, n_in, pretrained, ifnone(cut, meta[\u001b[38;5;124m'\u001b[39m\u001b[38;5;124mcut\u001b[39m\u001b[38;5;124m'\u001b[39m]))\n\u001b[0;32m    176\u001b[0m nf \u001b[38;5;241m=\u001b[39m num_features_model(nn\u001b[38;5;241m.\u001b[39mSequential(\u001b[38;5;241m*\u001b[39mbody\u001b[38;5;241m.\u001b[39mchildren())) \u001b[38;5;28;01mif\u001b[39;00m custom_head \u001b[38;5;129;01mis\u001b[39;00m \u001b[38;5;28;01mNone\u001b[39;00m \u001b[38;5;28;01melse\u001b[39;00m \u001b[38;5;28;01mNone\u001b[39;00m\n",
      "File \u001b[1;32mc:\\Users\\robve.LAPTOP-PCBR1UJF\\AppData\\Local\\Programs\\Python\\Python310\\lib\\site-packages\\torch\\nn\\modules\\module.py:1553\u001b[0m, in \u001b[0;36mModule._wrapped_call_impl\u001b[1;34m(self, *args, **kwargs)\u001b[0m\n\u001b[0;32m   1551\u001b[0m     \u001b[38;5;28;01mreturn\u001b[39;00m \u001b[38;5;28mself\u001b[39m\u001b[38;5;241m.\u001b[39m_compiled_call_impl(\u001b[38;5;241m*\u001b[39margs, \u001b[38;5;241m*\u001b[39m\u001b[38;5;241m*\u001b[39mkwargs)  \u001b[38;5;66;03m# type: ignore[misc]\u001b[39;00m\n\u001b[0;32m   1552\u001b[0m \u001b[38;5;28;01melse\u001b[39;00m:\n\u001b[1;32m-> 1553\u001b[0m     \u001b[38;5;28;01mreturn\u001b[39;00m \u001b[38;5;28mself\u001b[39m\u001b[38;5;241m.\u001b[39m_call_impl(\u001b[38;5;241m*\u001b[39margs, \u001b[38;5;241m*\u001b[39m\u001b[38;5;241m*\u001b[39mkwargs)\n",
      "File \u001b[1;32mc:\\Users\\robve.LAPTOP-PCBR1UJF\\AppData\\Local\\Programs\\Python\\Python310\\lib\\site-packages\\torch\\nn\\modules\\module.py:1562\u001b[0m, in \u001b[0;36mModule._call_impl\u001b[1;34m(self, *args, **kwargs)\u001b[0m\n\u001b[0;32m   1557\u001b[0m \u001b[38;5;66;03m# If we don't have any hooks, we want to skip the rest of the logic in\u001b[39;00m\n\u001b[0;32m   1558\u001b[0m \u001b[38;5;66;03m# this function, and just call forward.\u001b[39;00m\n\u001b[0;32m   1559\u001b[0m \u001b[38;5;28;01mif\u001b[39;00m \u001b[38;5;129;01mnot\u001b[39;00m (\u001b[38;5;28mself\u001b[39m\u001b[38;5;241m.\u001b[39m_backward_hooks \u001b[38;5;129;01mor\u001b[39;00m \u001b[38;5;28mself\u001b[39m\u001b[38;5;241m.\u001b[39m_backward_pre_hooks \u001b[38;5;129;01mor\u001b[39;00m \u001b[38;5;28mself\u001b[39m\u001b[38;5;241m.\u001b[39m_forward_hooks \u001b[38;5;129;01mor\u001b[39;00m \u001b[38;5;28mself\u001b[39m\u001b[38;5;241m.\u001b[39m_forward_pre_hooks\n\u001b[0;32m   1560\u001b[0m         \u001b[38;5;129;01mor\u001b[39;00m _global_backward_pre_hooks \u001b[38;5;129;01mor\u001b[39;00m _global_backward_hooks\n\u001b[0;32m   1561\u001b[0m         \u001b[38;5;129;01mor\u001b[39;00m _global_forward_hooks \u001b[38;5;129;01mor\u001b[39;00m _global_forward_pre_hooks):\n\u001b[1;32m-> 1562\u001b[0m     \u001b[38;5;28;01mreturn\u001b[39;00m forward_call(\u001b[38;5;241m*\u001b[39margs, \u001b[38;5;241m*\u001b[39m\u001b[38;5;241m*\u001b[39mkwargs)\n\u001b[0;32m   1564\u001b[0m \u001b[38;5;28;01mtry\u001b[39;00m:\n\u001b[0;32m   1565\u001b[0m     result \u001b[38;5;241m=\u001b[39m \u001b[38;5;28;01mNone\u001b[39;00m\n",
      "\u001b[1;31mTypeError\u001b[0m: Sequential.forward() got an unexpected keyword argument 'pretrained'"
     ]
    }
   ],
   "source": [
    "# Define the learner with a pretrained ResNet model\n",
    "learn = vision_learner(\n",
    "    dls, \n",
    "    model, \n",
    "    loss_func=MSELossFlat(),\n",
    "    y_range=(-1., 1.)  # Adjust as needed based on the range of your control inputs\n",
    ")\n",
    "\n",
    "learn.freeze()\n",
    "\n",
    "learn.to_fp16()\n",
    "\n",
    "# Fine-tune the model\n",
    "print(\"Training the model\")\n",
    "learn.fine_tune(5)\n",
    "\n",
    "# Evaluate the model on the validation set\n",
    "print(\"Evaluating the model\")\n",
    "learn.validate()\n",
    "\n",
    "# Save the entire model for future use\n",
    "learn.export('trackmania_learner_fp16_custom_head.pkl')\n"
   ]
  }
 ],
 "metadata": {
  "kernelspec": {
   "display_name": "Python 3",
   "language": "python",
   "name": "python3"
  },
  "language_info": {
   "codemirror_mode": {
    "name": "ipython",
    "version": 3
   },
   "file_extension": ".py",
   "mimetype": "text/x-python",
   "name": "python",
   "nbconvert_exporter": "python",
   "pygments_lexer": "ipython3",
   "version": "3.10.7"
  }
 },
 "nbformat": 4,
 "nbformat_minor": 2
}
