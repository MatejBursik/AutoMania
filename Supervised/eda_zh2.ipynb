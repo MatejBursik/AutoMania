{
 "cells": [
  {
   "cell_type": "code",
   "execution_count": 1,
   "metadata": {},
   "outputs": [],
   "source": [
    "# Import necessary libraries\n",
    "from fastai.vision.all import *\n",
    "import pandas as pd\n",
    "import torch\n",
    "from torch import nn\n",
    "from torchvision.models import resnet34\n",
    "import matplotlib.pyplot as plt\n",
    "import seaborn as sns\n"
   ]
  },
  {
   "cell_type": "code",
   "execution_count": 2,
   "metadata": {},
   "outputs": [
    {
     "name": "stdout",
     "output_type": "stream",
     "text": [
      "Defaulting to user installation because normal site-packages is not writeable\n",
      "Looking in indexes: https://pypi.org/simple, https://download.pytorch.org/whl/cu12x\n",
      "Requirement already satisfied: torch in c:\\users\\alame\\appdata\\roaming\\python\\python312\\site-packages (2.4.1)\n",
      "Requirement already satisfied: torchvision in c:\\users\\alame\\appdata\\roaming\\python\\python312\\site-packages (0.19.1)\n",
      "Requirement already satisfied: torchaudio in c:\\users\\alame\\appdata\\roaming\\python\\python312\\site-packages (2.4.1)\n",
      "Requirement already satisfied: filelock in c:\\users\\alame\\appdata\\roaming\\python\\python312\\site-packages (from torch) (3.16.1)\n",
      "Requirement already satisfied: typing-extensions>=4.8.0 in c:\\users\\alame\\appdata\\roaming\\python\\python312\\site-packages (from torch) (4.12.2)\n",
      "Requirement already satisfied: sympy in c:\\users\\alame\\appdata\\roaming\\python\\python312\\site-packages (from torch) (1.13.3)\n",
      "Requirement already satisfied: networkx in c:\\users\\alame\\appdata\\roaming\\python\\python312\\site-packages (from torch) (3.3)\n",
      "Requirement already satisfied: jinja2 in c:\\users\\alame\\appdata\\roaming\\python\\python312\\site-packages (from torch) (3.1.4)\n",
      "Requirement already satisfied: fsspec in c:\\users\\alame\\appdata\\roaming\\python\\python312\\site-packages (from torch) (2024.6.1)\n",
      "Requirement already satisfied: setuptools in c:\\users\\alame\\appdata\\roaming\\python\\python312\\site-packages (from torch) (75.1.0)\n",
      "Requirement already satisfied: numpy in c:\\users\\alame\\appdata\\roaming\\python\\python312\\site-packages (from torchvision) (1.26.4)\n",
      "Requirement already satisfied: pillow!=8.3.*,>=5.3.0 in c:\\users\\alame\\appdata\\roaming\\python\\python312\\site-packages (from torchvision) (10.4.0)\n",
      "Requirement already satisfied: MarkupSafe>=2.0 in c:\\users\\alame\\appdata\\roaming\\python\\python312\\site-packages (from jinja2->torch) (2.1.5)\n",
      "Requirement already satisfied: mpmath<1.4,>=1.1.0 in c:\\users\\alame\\appdata\\roaming\\python\\python312\\site-packages (from sympy->torch) (1.3.0)\n",
      "Note: you may need to restart the kernel to use updated packages.\n"
     ]
    },
    {
     "name": "stderr",
     "output_type": "stream",
     "text": [
      "\n",
      "[notice] A new release of pip is available: 23.2.1 -> 24.2\n",
      "[notice] To update, run: python.exe -m pip install --upgrade pip\n"
     ]
    }
   ],
   "source": [
    " pip install torch torchvision torchaudio --extra-index-url https://download.pytorch.org/whl/cu12x"
   ]
  },
  {
   "cell_type": "code",
   "execution_count": 2,
   "metadata": {},
   "outputs": [
    {
     "name": "stdout",
     "output_type": "stream",
     "text": [
      "PyTorch Version: 2.5.0+cu118\n",
      "CUDA Available: True\n",
      "CUDA Version: 11.8\n",
      "Number of GPUs: 1\n"
     ]
    }
   ],
   "source": [
    "import torch\n",
    "print(\"PyTorch Version:\", torch.__version__)\n",
    "print(\"CUDA Available:\", torch.cuda.is_available())\n",
    "print(\"CUDA Version:\", torch.version.cuda)\n",
    "print(\"Number of GPUs:\", torch.cuda.device_count())\n",
    "\n",
    "\n"
   ]
  },
  {
   "cell_type": "code",
   "execution_count": 2,
   "metadata": {},
   "outputs": [],
   "source": [
    "\n",
    "# Load the labels CSV\n",
    "labels_df = pd.read_csv(\"C:\\\\Users\\\\alame\\\\Desktop\\\\pro edition\\\\deep learning\\\\AutoMania\\\\Supervised\\\\data\\\\combined_train\\\\combined_controls.csv\")\n",
    "\n",
    "# Path to images\n",
    "path = Path('C:\\\\Users\\\\alame\\\\Desktop\\\\pro edition\\\\deep learning\\\\AutoMania\\\\Supervised\\\\data\\\\combined_train')"
   ]
  },
  {
   "cell_type": "markdown",
   "metadata": {},
   "source": [
    "# Perform Exploratory Data Analysis (EDA)"
   ]
  },
  {
   "cell_type": "code",
   "execution_count": 3,
   "metadata": {},
   "outputs": [
    {
     "name": "stdout",
     "output_type": "stream",
     "text": [
      "First few rows of the labels dataset:\n",
      "         frame  left  right  forward  backward\n",
      "0  frame_0.jpg     0      0        1         0\n",
      "1  frame_1.jpg     0      0        1         0\n",
      "2  frame_2.jpg     0      0        1         0\n",
      "3  frame_3.jpg     0      0        1         0\n",
      "4  frame_4.jpg     0      0        1         0\n"
     ]
    }
   ],
   "source": [
    "# Cell 1: Display first few rows of the dataset\n",
    "print(\"First few rows of the labels dataset:\")\n",
    "print(labels_df.head())"
   ]
  },
  {
   "cell_type": "code",
   "execution_count": 4,
   "metadata": {},
   "outputs": [
    {
     "name": "stdout",
     "output_type": "stream",
     "text": [
      "\n",
      "Summary statistics of the dataset:\n",
      "               left         right       forward      backward\n",
      "count  13603.000000  13603.000000  13603.000000  13603.000000\n",
      "mean       0.144159      0.149746      0.747335      0.018966\n",
      "std        0.351264      0.356836      0.434556      0.136411\n",
      "min        0.000000      0.000000      0.000000      0.000000\n",
      "25%        0.000000      0.000000      0.000000      0.000000\n",
      "50%        0.000000      0.000000      1.000000      0.000000\n",
      "75%        0.000000      0.000000      1.000000      0.000000\n",
      "max        1.000000      1.000000      1.000000      1.000000\n"
     ]
    }
   ],
   "source": [
    "# Cell 2: Summary statistics of the dataset\n",
    "print(\"\\nSummary statistics of the dataset:\")\n",
    "print(labels_df.describe())\n",
    "\n"
   ]
  },
  {
   "cell_type": "code",
   "execution_count": 5,
   "metadata": {},
   "outputs": [
    {
     "name": "stdout",
     "output_type": "stream",
     "text": [
      "\n",
      "Count of each control action:\n",
      "left         1961\n",
      "right        2037\n",
      "forward     10166\n",
      "backward      258\n",
      "dtype: int64\n"
     ]
    }
   ],
   "source": [
    "# Cell 3: Count of each control action\n",
    "print(\"\\nCount of each control action:\")\n",
    "control_counts = labels_df[['left', 'right', 'forward', 'backward']].sum()\n",
    "print(control_counts)\n",
    "\n"
   ]
  },
  {
   "cell_type": "code",
   "execution_count": 6,
   "metadata": {},
   "outputs": [
    {
     "data": {
      "image/png": "[encoded data removed]",
      "text/plain": [
       "<Figure size 800x600 with 2 Axes>"
      ]
     },
     "metadata": {},
     "output_type": "display_data"
    }
   ],
   "source": [
    "# Cell 5: Correlation heatmap of control actions\n",
    "plt.figure(figsize=(8, 6))\n",
    "sns.heatmap(labels_df[['left', 'right', 'forward', 'backward']].corr(), annot=True, cmap='coolwarm')\n",
    "plt.title('Correlation Heatmap of Control Actions')\n",
    "plt.show()"
   ]
  },
  {
   "cell_type": "code",
   "execution_count": 7,
   "metadata": {},
   "outputs": [
    {
     "data": {
      "image/png": "[encoded data removed]",
      "text/plain": [
       "<Figure size 800x600 with 2 Axes>"
      ]
     },
     "metadata": {},
     "output_type": "display_data"
    }
   ],
   "source": [
    "# Cell 5: Correlation heatmap of control actions\n",
    "plt.figure(figsize=(8, 6))\n",
    "sns.heatmap(labels_df[['left', 'right', 'forward', 'backward']].corr(), annot=True, cmap='coolwarm')\n",
    "plt.title('Correlation Heatmap of Control Actions')\n",
    "plt.show()"
   ]
  },
  {
   "cell_type": "code",
   "execution_count": null,
   "metadata": {},
   "outputs": [
    {
     "name": "stdout",
     "output_type": "stream",
     "text": [
      "Training the model with frozen ResNet layers\n"
     ]
    },
    {
     "name": "stderr",
     "output_type": "stream",
     "text": [
      "C:\\Users\\alame\\AppData\\Roaming\\Python\\Python312\\site-packages\\fastai\\callback\\fp16.py:47: FutureWarning: `torch.cuda.amp.autocast(args...)` is deprecated. Please use `torch.amp.autocast('cuda', args...)` instead.\n",
      "  self.autocast,self.learn.scaler,self.scales = autocast(dtype=dtype),GradScaler(**self.kwargs),L()\n",
      "C:\\Users\\alame\\AppData\\Roaming\\Python\\Python312\\site-packages\\torch\\amp\\autocast_mode.py:265: UserWarning: User provided device_type of 'cuda', but CUDA is not available. Disabling\n",
      "  warnings.warn(\n",
      "C:\\Users\\alame\\AppData\\Roaming\\Python\\Python312\\site-packages\\fastai\\callback\\fp16.py:47: FutureWarning: `torch.cuda.amp.GradScaler(args...)` is deprecated. Please use `torch.amp.GradScaler('cuda', args...)` instead.\n",
      "  self.autocast,self.learn.scaler,self.scales = autocast(dtype=dtype),GradScaler(**self.kwargs),L()\n",
      "C:\\Users\\alame\\AppData\\Roaming\\Python\\Python312\\site-packages\\torch\\amp\\grad_scaler.py:132: UserWarning: torch.cuda.amp.GradScaler is enabled, but CUDA is not available.  Disabling.\n",
      "  warnings.warn(\n"
     ]
    },
    {
     "data": {
      "text/html": [
       "\n",
       "<style>\n",
       "    /* Turns off some styling */\n",
       "    progress {\n",
       "        /* gets rid of default border in Firefox and Opera. */\n",
       "        border: none;\n",
       "        /* Needs to be in here for Safari polyfill so background images work as expected. */\n",
       "        background-size: auto;\n",
       "    }\n",
       "    progress:not([value]), progress:not([value])::-webkit-progress-bar {\n",
       "        background: repeating-linear-gradient(45deg, #7e7e7e, #7e7e7e 10px, #5c5c5c 10px, #5c5c5c 20px);\n",
       "    }\n",
       "    .progress-bar-interrupted, .progress-bar-interrupted::-webkit-progress-bar {\n",
       "        background: #F44336;\n",
       "    }\n",
       "</style>\n"
      ],
      "text/plain": [
       "<IPython.core.display.HTML object>"
      ]
     },
     "metadata": {},
     "output_type": "display_data"
    },
    {
     "data": {
      "text/html": [
       "\n",
       "    <div>\n",
       "      <progress value='3' class='' max='7' style='width:300px; height:20px; vertical-align: middle;'></progress>\n",
       "      42.86% [3/7 1:52:52&lt;2:30:29]\n",
       "    </div>\n",
       "    \n",
       "<table border=\"1\" class=\"dataframe\">\n",
       "  <thead>\n",
       "    <tr style=\"text-align: left;\">\n",
       "      <th>epoch</th>\n",
       "      <th>train_loss</th>\n",
       "      <th>valid_loss</th>\n",
       "      <th>accuracy_multi</th>\n",
       "      <th>time</th>\n",
       "    </tr>\n",
       "  </thead>\n",
       "  <tbody>\n",
       "    <tr>\n",
       "      <td>0</td>\n",
       "      <td>0.497148</td>\n",
       "      <td>0.483678</td>\n",
       "      <td>0.860478</td>\n",
       "      <td>41:37</td>\n",
       "    </tr>\n",
       "    <tr>\n",
       "      <td>1</td>\n",
       "      <td>0.506462</td>\n",
       "      <td>0.483290</td>\n",
       "      <td>0.860478</td>\n",
       "      <td>42:29</td>\n",
       "    </tr>\n",
       "    <tr>\n",
       "      <td>2</td>\n",
       "      <td>0.499469</td>\n",
       "      <td>0.483664</td>\n",
       "      <td>0.860478</td>\n",
       "      <td>28:45</td>\n",
       "    </tr>\n",
       "  </tbody>\n",
       "</table><p>\n",
       "\n",
       "    <div>\n",
       "      <progress value='741' class='' max='1360' style='width:300px; height:20px; vertical-align: middle;'></progress>\n",
       "      54.49% [741/1360 14:21&lt;11:59 0.5112]\n",
       "    </div>\n",
       "    "
      ],
      "text/plain": [
       "<IPython.core.display.HTML object>"
      ]
     },
     "metadata": {},
     "output_type": "display_data"
    }
   ],
   "source": [
    "from fastai.vision.all import *\n",
    "import pandas as pd\n",
    "import torch\n",
    "from torch import nn\n",
    "from torchvision.models import resnet18\n",
    "\n",
    "# Load the labels CSV\n",
    "labels_df = pd.read_csv(\"C:\\\\Users\\\\alame\\\\Desktop\\\\pro edition\\\\deep learning\\\\AutoMania\\\\Supervised\\\\data\\\\combined_train\\\\combined_controls.csv\")\n",
    "\n",
    "# Path to images\n",
    "path = Path('C:\\\\Users\\\\alame\\\\Desktop\\\\pro edition\\\\deep learning\\\\AutoMania\\\\Supervised\\\\data\\\\combined_train')\n",
    "\n",
    "# Define a function to get the control inputs (left, right, forward, backward)\n",
    "def get_y(row):\n",
    "    labels = []\n",
    "    if row['left'] == 1: labels.append('left')\n",
    "    if row['right'] == 1: labels.append('right')\n",
    "    if row['forward'] == 1: labels.append('forward')\n",
    "    if row['backward'] == 1: labels.append('backward')\n",
    "    return labels\n",
    "\n",
    "def get_x(row):\n",
    "    img_path = path / row['frame']\n",
    "    img = PILImage.create(img_path)\n",
    "    return img  # No cropping applied\n",
    "\n",
    "# DataBlock for regression task\n",
    "dblock = DataBlock(\n",
    "    blocks=(ImageBlock, MultiCategoryBlock),  # Images as input, binary labels as output\n",
    "    get_x=get_x,  # Get image path\n",
    "    get_y=get_y,  # Get control inputs as a tensor\n",
    "    splitter=RandomSplitter(valid_pct=0.2),  # Split train/validation\n",
    "    item_tfms=Resize((395, 222)),  # Resize images to the required dimensions\n",
    "    batch_tfms=aug_transforms(  # Apply realistic augmentations during training\n",
    "        flip_vert=False,          # Do not flip vertically\n",
    "        max_rotate=2.0,           # Allow small rotations (up to 5 degrees)\n",
    "        max_zoom=1.02,            # Slight zoom in/out (5% zoom)\n",
    "        max_warp=0.1,             # Apply small perspective warps\n",
    "        p_affine=0.75,            # Probability of applying affine transforms (rotation/zoom)\n",
    "        p_lighting=0.3           # Probability of applying lighting transformations (brightness/contrast)\n",
    "    )\n",
    ")\n",
    "\n",
    "# Create DataLoaders\n",
    "dls = dblock.dataloaders(labels_df, bs=8)\n",
    "\n",
    "# Define the CNN + LSTM model using ResNet18\n",
    "class ResNetLSTMModel(nn.Module):\n",
    "    def __init__(self):\n",
    "        super().__init__()\n",
    "        # Load a pretrained ResNet18 model\n",
    "        self.resnet = resnet18(weights='IMAGENET1K_V1')\n",
    "        # Remove the last fully connected layer of ResNet18\n",
    "        self.resnet = nn.Sequential(*list(self.resnet.children())[:-1])\n",
    "        # LSTM to capture temporal dependencies\n",
    "        self.lstm = nn.LSTM(input_size=512, hidden_size=256, num_layers=3, batch_first=True, dropout=0.5)\n",
    "        # Fully connected layer for final prediction\n",
    "        self.fc = nn.Sequential(\n",
    "            nn.Linear(256, 128),\n",
    "            nn.ReLU(),\n",
    "            nn.Dropout(0.5),  # Dropout added here\n",
    "            nn.Linear(128, 4)  # Predicting left, right, forward, backward\n",
    "        )\n",
    "\n",
    "    def forward(self, x):\n",
    "        # Expecting input of shape (batch_size, C, H, W)\n",
    "        batch_size = x.size(0)\n",
    "        \n",
    "        # Extract features from the image using ResNet18\n",
    "        frame_features = self.resnet(x)  # Shape: (batch_size, 512, 1, 1)\n",
    "        frame_features = frame_features.view(batch_size, 1, -1)  # Shape: (batch_size, 1, 512)\n",
    "        \n",
    "        # Pass through LSTM\n",
    "        lstm_out, _ = self.lstm(frame_features)  # Shape: (batch_size, 1, 256)\n",
    "        \n",
    "        # Take the output of the LSTM cell\n",
    "        output = lstm_out[:, -1, :]  # Shape: (batch_size, 256)\n",
    "        \n",
    "        # Fully connected layer to get final prediction\n",
    "        output = self.fc(output)  # Shape: (batch_size, 4)\n",
    "        \n",
    "        return output\n",
    "\n",
    "# Instantiate the model\n",
    "model = ResNetLSTMModel()\n",
    "\n",
    "# Use BCEWithLogitsLoss for multi-label binary classification\n",
    "pos_weight = torch.tensor([2.0, 2.0, 0.5, 3.0])  # Adjust based on the imbalance\n",
    "loss_func = nn.BCEWithLogitsLoss(pos_weight=pos_weight)\n",
    "\n",
    "# Create Learner and move model to GPU\n",
    "learn = Learner(dls, model, loss_func=loss_func, metrics=[accuracy_multi], wd=5e-4).to_fp16()\n",
    "\n",
    "# Training with frozen ResNet layers\n",
    "print(\"Training the model with frozen ResNet layers\")\n",
    "learn.freeze()\n",
    "learn.fit_one_cycle(7, slice(1e-5, 1e-3))  # Training with frozen layers\n",
    "\n",
    "# Unfreeze the model for fine-tuning\n",
    "print(\"Fine-tuning the model with all layers\")\n",
    "learn.unfreeze()\n",
    "learn.fit_one_cycle(5, slice(1e-5, 1e-4))  # Fine-tuning with all layers unfrozen\n",
    "\n",
    "# Evaluate the model\n",
    "print(\"Evaluating the model on validation set\")\n",
    "learn.validate()\n",
    "\n",
    "# Save the trained model\n",
    "learn.export('trackmania_car_detection_model.pkl')\n"
   ]
  },
  {
   "cell_type": "code",
   "execution_count": 74,
   "metadata": {},
   "outputs": [
    {
     "name": "stdout",
     "output_type": "stream",
     "text": [
      "Input tensor shape: torch.Size([64, 3, 224, 224])\n",
      "Target tensor shape: torch.Size([64, 4])\n"
     ]
    }
   ],
   "source": [
    "print(f\"Input tensor shape: {learn.dls.train.one_batch()[0].shape}\")\n",
    "print(f\"Target tensor shape: {learn.dls.train.one_batch()[1].shape}\")\n",
    "\n",
    "\n"
   ]
  },
  {
   "cell_type": "code",
   "execution_count": 69,
   "metadata": {},
   "outputs": [
    {
     "data": {
      "text/html": [
       "\n",
       "<style>\n",
       "    /* Turns off some styling */\n",
       "    progress {\n",
       "        /* gets rid of default border in Firefox and Opera. */\n",
       "        border: none;\n",
       "        /* Needs to be in here for Safari polyfill so background images work as expected. */\n",
       "        background-size: auto;\n",
       "    }\n",
       "    progress:not([value]), progress:not([value])::-webkit-progress-bar {\n",
       "        background: repeating-linear-gradient(45deg, #7e7e7e, #7e7e7e 10px, #5c5c5c 10px, #5c5c5c 20px);\n",
       "    }\n",
       "    .progress-bar-interrupted, .progress-bar-interrupted::-webkit-progress-bar {\n",
       "        background: #F44336;\n",
       "    }\n",
       "</style>\n"
      ],
      "text/plain": [
       "<IPython.core.display.HTML object>"
      ]
     },
     "metadata": {},
     "output_type": "display_data"
    },
    {
     "data": {
      "text/html": [],
      "text/plain": [
       "<IPython.core.display.HTML object>"
      ]
     },
     "metadata": {},
     "output_type": "display_data"
    },
    {
     "name": "stderr",
     "output_type": "stream",
     "text": [
      "C:\\Users\\alame\\AppData\\Roaming\\Python\\Python312\\site-packages\\fastai\\learner.py:53: FutureWarning: You are using `torch.load` with `weights_only=False` (the current default value), which uses the default pickle module implicitly. It is possible to construct malicious pickle data which will execute arbitrary code during unpickling (See https://github.com/pytorch/pytorch/blob/main/SECURITY.md#untrusted-models for more details). In a future release, the default value for `weights_only` will be flipped to `True`. This limits the functions that could be executed during unpickling. Arbitrary objects will no longer be allowed to be loaded via this mode unless they are explicitly allowlisted by the user via `torch.serialization.add_safe_globals`. We recommend you start setting `weights_only=True` for any use case where you don't have full control of the loaded file. Please open an issue on GitHub for any issues related to this experimental feature.\n",
      "  state = torch.load(file, map_location=device, **torch_load_kwargs)\n"
     ]
    },
    {
     "data": {
      "text/plain": [
       "SuggestedLRs(valley=0.0020892962347716093)"
      ]
     },
     "execution_count": 69,
     "metadata": {},
     "output_type": "execute_result"
    },
    {
     "data": {
      "image/png": "[encoded data removed]",
      "text/plain": [
       "<Figure size 640x480 with 1 Axes>"
      ]
     },
     "metadata": {},
     "output_type": "display_data"
    }
   ],
   "source": [
    "# Step 8: Find the optimal learning rate\n",
    "learn.lr_find()\n",
    "# Use the valley learning rate from the plot"
   ]
  },
  {
   "cell_type": "code",
   "execution_count": null,
   "metadata": {},
   "outputs": [],
   "source": [
    "from fastai.vision.all import *\n",
    "import pandas as pd\n",
    "import torch\n",
    "from torch import nn\n",
    "from torchvision.models import resnet18\n",
    "\n",
    "# Load the labels CSV\n",
    "labels_df = pd.read_csv(\"C:\\\\Users\\\\alame\\\\Desktop\\\\pro edition\\\\deep learning\\\\AutoMania\\\\Supervised\\\\data\\\\combined_train\\\\combined_controls.csv\")\n",
    "\n",
    "# Path to images\n",
    "path = Path('C:\\\\Users\\\\alame\\\\Desktop\\\\pro edition\\\\deep learning\\\\AutoMania\\\\Supervised\\\\data\\\\combined_train')\n",
    "\n",
    "def crop_car(img):\n",
    "    width, height = img.size\n",
    "    left = (width - 200) / 2  # Crop 200 pixels wide centered horizontally\n",
    "    right = (width + 200) / 2\n",
    "    top = (height - 50) / 2  # Crop 50 pixels tall centered vertically\n",
    "    bottom = (height + 50) / 2\n",
    "    return img.crop((left, top, right, bottom))  # Crop the image\n",
    "\n",
    "# Define a function to get the control inputs (left, right, forward, backward)\n",
    "def get_y(row):\n",
    "    labels = []\n",
    "    if row['left'] == 1: labels.append('left')\n",
    "    if row['right'] == 1: labels.append('right')\n",
    "    if row['forward'] == 1: labels.append('forward')\n",
    "    if row['backward'] == 1: labels.append('backward')\n",
    "    return labels\n",
    "\n",
    "def get_x(row):\n",
    "    img_path = path / row['frame']\n",
    "    img = PILImage.create(img_path)\n",
    "    return crop_car(img)  # Crop the image to focus on the car\n",
    "\n",
    "# DataBlock for regression task\n",
    "dblock = DataBlock(\n",
    "    blocks=(ImageBlock, MultiCategoryBlock),  # Images as input, binary labels as output\n",
    "    get_x=get_x,  # Get image path\n",
    "    get_y=get_y,  # Get control inputs as a tensor\n",
    "    splitter=RandomSplitter(valid_pct=0.2),  # Split train/validation\n",
    "    item_tfms=Resize((395, 222)),  # Resize images to the required dimensions\n",
    "    batch_tfms=aug_transforms(  # Apply realistic augmentations during training\n",
    "        flip_vert=False,          # Do not flip vertically\n",
    "        max_rotate=2.0,           # Allow small rotations (up to 5 degrees)\n",
    "        max_zoom=1.02,            # Slight zoom in/out (5% zoom)\n",
    "        max_warp=0.1,             # Apply small perspective warps\n",
    "        p_affine=0.75,            # Probability of applying affine transforms (rotation/zoom)\n",
    "        p_lighting=0.3           # Probability of applying lighting transformations (brightness/contrast)\n",
    "      \n",
    "    )\n",
    "\n",
    ")\n",
    "\n",
    "# Create DataLoaders\n",
    "dls = dblock.dataloaders(labels_df, bs=16)\n",
    "\n",
    "# Define the CNN + LSTM model\n",
    "class ResNetLSTMModel(nn.Module):\n",
    "    def __init__(self):\n",
    "        super().__init__()\n",
    "        # Load a pretrained ResNet50 model\n",
    "        self.resnet = resnet18(weights='IMAGENET1K_V1')\n",
    "        # Remove the last fully connected layer of ResNet50\n",
    "        self.resnet = nn.Sequential(*list(self.resnet.children())[:-1])\n",
    "        # LSTM to capture temporal dependencies\n",
    "        self.lstm = nn.LSTM(input_size=2048, hidden_size=1024, num_layers=3, batch_first=True, dropout=0.5)\n",
    "        # Fully connected layer for final prediction\n",
    "        self.fc = nn.Sequential(\n",
    "            nn.Linear(1024, 512),\n",
    "            nn.ReLU(),\n",
    "            nn.Dropout(0.5),  # Dropout added here\n",
    "            nn.Linear(512, 4)  # Predicting left, right, forward, backward\n",
    "        )\n",
    "        \n",
    "    def forward(self, x):\n",
    "        # Expecting input of shape (batch_size, C, H, W)\n",
    "        batch_size = x.size(0) \n",
    "        \n",
    "        # Extract features from the image using ResNet50\n",
    "        frame_features = self.resnet(x)  # Shape: (batch_size, 2048, 1, 1)\n",
    "        frame_features = frame_features.view(batch_size, 1, -1)  # Shape: (batch_size, 1, 2048)\n",
    "        \n",
    "        # Pass through LSTM\n",
    "        lstm_out, _ = self.lstm(frame_features)  # Shape: (batch_size, 1, 512)\n",
    "        \n",
    "        # Take the output of the LSTM cell\n",
    "        output = lstm_out[:, -1, :]  # Shape: (batch_size, 512)\n",
    "        \n",
    "        # Fully connected layer to get final prediction\n",
    "        output = self.fc(output)  # Shape: (batch_size, 4)\n",
    "        \n",
    "        return output\n",
    "\n",
    "if __name__ == \"__main__\":\n",
    "# Instantiate the model\n",
    "    model = ResNetLSTMModel()\n",
    "\n",
    "# Use BCEWithLogitsLoss for multi-label binary classification\n",
    "    loss_func = nn.BCEWithLogitsLoss()\n",
    "\n",
    "# Add L2 Regularization (weight decay) for better generalization\n",
    "\n",
    "    pos_weight = torch.tensor([2.0, 2.0, 0.5, 3.0])  # Adjust based on the imbalance\n",
    "    loss_func = nn.BCEWithLogitsLoss(pos_weight=pos_weight)\n",
    "\n",
    "    learn = Learner(dls, model, loss_func=loss_func, metrics=[accuracy_multi], wd=5e-4)\n",
    "\n",
    "    # Training with frozen ResNet layers\n",
    "    print(\"Training the model with frozen ResNet layers\")\n",
    "    learn.freeze()\n",
    "    learn.fit_one_cycle(7, slice(1e-5, 1e-3))  # Training with frozen layers\n",
    "\n",
    "    # Unfreeze the model for fine-tuning\n",
    "    print(\"Fine-tuning the model with all layers\")\n",
    "    learn.unfreeze()\n",
    "    learn.fit_one_cycle(5, slice(1e-5, 1e-4))  # Fine-tuning with all layers unfrozen\n",
    "\n",
    "    # Evaluate the model\n",
    "    print(\"Evaluating the model on validation set\")\n",
    "    learn.validate()\n",
    "\n",
    "    # Save the trained model\n",
    "    learn.export('trackmania_car_detection_model.pkl')\n"
   ]
  }
 ],
 "metadata": {
  "kernelspec": {
   "display_name": "Python 3",
   "language": "python",
   "name": "python3"
  },
  "language_info": {
   "codemirror_mode": {
    "name": "ipython",
    "version": 3
   },
   "file_extension": ".py",
   "mimetype": "text/x-python",
   "name": "python",
   "nbconvert_exporter": "python",
   "pygments_lexer": "ipython3",
   "version": "3.12.0"
  }
 },
 "nbformat": 4,
 "nbformat_minor": 2
}
