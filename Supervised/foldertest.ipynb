{
 "cells": [
  {
   "cell_type": "code",
   "execution_count": 3,
   "metadata": {},
   "outputs": [
    {
     "name": "stdout",
     "output_type": "stream",
     "text": [
      "Training the model\n"
     ]
    },
    {
     "name": "stderr",
     "output_type": "stream",
     "text": [
      "c:\\Users\\robve.LAPTOP-PCBR1UJF\\AppData\\Local\\Programs\\Python\\Python310\\lib\\site-packages\\fastai\\callback\\fp16.py:47: FutureWarning: `torch.cuda.amp.autocast(args...)` is deprecated. Please use `torch.amp.autocast('cuda', args...)` instead.\n",
      "  self.autocast,self.learn.scaler,self.scales = autocast(dtype=dtype),GradScaler(**self.kwargs),L()\n",
      "c:\\Users\\robve.LAPTOP-PCBR1UJF\\AppData\\Local\\Programs\\Python\\Python310\\lib\\site-packages\\fastai\\callback\\fp16.py:47: FutureWarning: `torch.cuda.amp.GradScaler(args...)` is deprecated. Please use `torch.amp.GradScaler('cuda', args...)` instead.\n",
      "  self.autocast,self.learn.scaler,self.scales = autocast(dtype=dtype),GradScaler(**self.kwargs),L()\n"
     ]
    },
    {
     "data": {
      "text/html": [
       "\n",
       "<style>\n",
       "    /* Turns off some styling */\n",
       "    progress {\n",
       "        /* gets rid of default border in Firefox and Opera. */\n",
       "        border: none;\n",
       "        /* Needs to be in here for Safari polyfill so background images work as expected. */\n",
       "        background-size: auto;\n",
       "    }\n",
       "    progress:not([value]), progress:not([value])::-webkit-progress-bar {\n",
       "        background: repeating-linear-gradient(45deg, #7e7e7e, #7e7e7e 10px, #5c5c5c 10px, #5c5c5c 20px);\n",
       "    }\n",
       "    .progress-bar-interrupted, .progress-bar-interrupted::-webkit-progress-bar {\n",
       "        background: #F44336;\n",
       "    }\n",
       "</style>\n"
      ],
      "text/plain": [
       "<IPython.core.display.HTML object>"
      ]
     },
     "metadata": {},
     "output_type": "display_data"
    },
    {
     "data": {
      "text/html": [
       "<table border=\"1\" class=\"dataframe\">\n",
       "  <thead>\n",
       "    <tr style=\"text-align: left;\">\n",
       "      <th>epoch</th>\n",
       "      <th>train_loss</th>\n",
       "      <th>valid_loss</th>\n",
       "      <th>time</th>\n",
       "    </tr>\n",
       "  </thead>\n",
       "  <tbody>\n",
       "    <tr>\n",
       "      <td>0</td>\n",
       "      <td>0.676231</td>\n",
       "      <td>0.377373</td>\n",
       "      <td>02:04</td>\n",
       "    </tr>\n",
       "  </tbody>\n",
       "</table>"
      ],
      "text/plain": [
       "<IPython.core.display.HTML object>"
      ]
     },
     "metadata": {},
     "output_type": "display_data"
    },
    {
     "data": {
      "text/html": [
       "\n",
       "<style>\n",
       "    /* Turns off some styling */\n",
       "    progress {\n",
       "        /* gets rid of default border in Firefox and Opera. */\n",
       "        border: none;\n",
       "        /* Needs to be in here for Safari polyfill so background images work as expected. */\n",
       "        background-size: auto;\n",
       "    }\n",
       "    progress:not([value]), progress:not([value])::-webkit-progress-bar {\n",
       "        background: repeating-linear-gradient(45deg, #7e7e7e, #7e7e7e 10px, #5c5c5c 10px, #5c5c5c 20px);\n",
       "    }\n",
       "    .progress-bar-interrupted, .progress-bar-interrupted::-webkit-progress-bar {\n",
       "        background: #F44336;\n",
       "    }\n",
       "</style>\n"
      ],
      "text/plain": [
       "<IPython.core.display.HTML object>"
      ]
     },
     "metadata": {},
     "output_type": "display_data"
    },
    {
     "data": {
      "text/html": [
       "<table border=\"1\" class=\"dataframe\">\n",
       "  <thead>\n",
       "    <tr style=\"text-align: left;\">\n",
       "      <th>epoch</th>\n",
       "      <th>train_loss</th>\n",
       "      <th>valid_loss</th>\n",
       "      <th>time</th>\n",
       "    </tr>\n",
       "  </thead>\n",
       "  <tbody>\n",
       "    <tr>\n",
       "      <td>0</td>\n",
       "      <td>0.564543</td>\n",
       "      <td>0.311269</td>\n",
       "      <td>04:02</td>\n",
       "    </tr>\n",
       "    <tr>\n",
       "      <td>1</td>\n",
       "      <td>0.511093</td>\n",
       "      <td>0.270713</td>\n",
       "      <td>03:59</td>\n",
       "    </tr>\n",
       "    <tr>\n",
       "      <td>2</td>\n",
       "      <td>0.447131</td>\n",
       "      <td>0.208899</td>\n",
       "      <td>04:12</td>\n",
       "    </tr>\n",
       "    <tr>\n",
       "      <td>3</td>\n",
       "      <td>0.396775</td>\n",
       "      <td>0.187151</td>\n",
       "      <td>03:59</td>\n",
       "    </tr>\n",
       "    <tr>\n",
       "      <td>4</td>\n",
       "      <td>0.362334</td>\n",
       "      <td>0.186246</td>\n",
       "      <td>03:56</td>\n",
       "    </tr>\n",
       "  </tbody>\n",
       "</table>"
      ],
      "text/plain": [
       "<IPython.core.display.HTML object>"
      ]
     },
     "metadata": {},
     "output_type": "display_data"
    },
    {
     "name": "stdout",
     "output_type": "stream",
     "text": [
      "Evaluating the model\n"
     ]
    },
    {
     "data": {
      "text/html": [
       "\n",
       "<style>\n",
       "    /* Turns off some styling */\n",
       "    progress {\n",
       "        /* gets rid of default border in Firefox and Opera. */\n",
       "        border: none;\n",
       "        /* Needs to be in here for Safari polyfill so background images work as expected. */\n",
       "        background-size: auto;\n",
       "    }\n",
       "    progress:not([value]), progress:not([value])::-webkit-progress-bar {\n",
       "        background: repeating-linear-gradient(45deg, #7e7e7e, #7e7e7e 10px, #5c5c5c 10px, #5c5c5c 20px);\n",
       "    }\n",
       "    .progress-bar-interrupted, .progress-bar-interrupted::-webkit-progress-bar {\n",
       "        background: #F44336;\n",
       "    }\n",
       "</style>\n"
      ],
      "text/plain": [
       "<IPython.core.display.HTML object>"
      ]
     },
     "metadata": {},
     "output_type": "display_data"
    },
    {
     "data": {
      "text/html": [],
      "text/plain": [
       "<IPython.core.display.HTML object>"
      ]
     },
     "metadata": {},
     "output_type": "display_data"
    }
   ],
   "source": [
    "import os\n",
    "from fastai.vision.all import *\n",
    "import pandas as pd\n",
    "\n",
    "# Base path to the data folder\n",
    "base_data_path = Path('data')\n",
    "\n",
    "# Initialize an empty DataFrame to store all the data\n",
    "combined_df = pd.DataFrame()\n",
    "\n",
    "# List all the folders in the base directory\n",
    "folders = [f for f in os.listdir(base_data_path) if os.path.isdir(base_data_path/f)]\n",
    "\n",
    "# Loop through each folder and load CSVs and image paths\n",
    "for folder in folders:\n",
    "    folder_path = base_data_path/folder\n",
    "    \n",
    "    # Load the CSV file (assumed to be named 'controls.csv')\n",
    "    csv_file = folder_path/'controls.csv'\n",
    "    if csv_file.exists():\n",
    "        df = pd.read_csv(csv_file)\n",
    "        \n",
    "        # Get all image files that exist in the folder\n",
    "        image_files = {f for f in os.listdir(folder_path) if f.endswith('.jpg')}\n",
    "        \n",
    "        # Dynamically match each row with an actual image filename\n",
    "        def get_image_filename(i):\n",
    "            # Construct the expected filename\n",
    "            filename = f'frame_{i}.jpg'\n",
    "            # Only return the filename if it exists in the folder\n",
    "            if filename in image_files:\n",
    "                return folder_path/filename\n",
    "            else:\n",
    "                return None\n",
    "\n",
    "        # Apply the function to create a new column with actual image paths\n",
    "        df['frame'] = df.index.map(get_image_filename)\n",
    "        \n",
    "        # Filter out rows where no corresponding image file was found\n",
    "        df = df[df['frame'].notnull()]\n",
    "        \n",
    "        # Combine with the main DataFrame\n",
    "        combined_df = pd.concat([combined_df, df], ignore_index=True)\n",
    "\n",
    "# If combined_df is empty, raise an error\n",
    "if combined_df.empty:\n",
    "    raise FileNotFoundError(\"No valid image files found. Please check your data folders.\")\n",
    "\n",
    "# Define a function to get the control inputs for each image (as a tensor)\n",
    "def get_y(row):\n",
    "    return tensor([row['steering'], row['throttle'], row['brake']])\n",
    "\n",
    "# Define a function to get the image path for each row\n",
    "def get_x(row):\n",
    "    return row['frame']  # Path is already constructed in 'combined_df'\n",
    "\n",
    "# DataBlock for regression task\n",
    "dblock = DataBlock(\n",
    "    blocks=(ImageBlock, RegressionBlock),  # Images as input, continuous labels as output\n",
    "    get_x=get_x,  # Get image path\n",
    "    get_y=get_y,  # Get control inputs as a tensor\n",
    "    splitter=RandomSplitter(valid_pct=0.2),  # Split train/validation\n",
    "    item_tfms=Resize((395, 222)),  # Resize images\n",
    "    batch_tfms=aug_transforms()  # Apply augmentations during training\n",
    ")\n",
    "\n",
    "# Create DataLoaders\n",
    "dls = dblock.dataloaders(combined_df)\n",
    "\n",
    "# Define the learner with a pretrained ResNet model\n",
    "learn = vision_learner(\n",
    "    dls, \n",
    "    resnet34, \n",
    "    loss_func=MSELossFlat(),\n",
    "    y_range=(-1., 1.)  # Adjust as needed based on the range of your control inputs\n",
    ")\n",
    "\n",
    "learn.to_fp16()\n",
    "\n",
    "# Fine-tune the model\n",
    "print(\"Training the model\")\n",
    "learn.fine_tune(5)\n",
    "\n",
    "# Evaluate the model on the validation set\n",
    "print(\"Evaluating the model\")\n",
    "learn.validate()\n",
    "\n",
    "# Save the entire model for future use\n",
    "learn.export('trackmania_learner_fp16.pkl')\n"
   ]
  }
 ],
 "metadata": {
  "kernelspec": {
   "display_name": "Python 3",
   "language": "python",
   "name": "python3"
  },
  "language_info": {
   "codemirror_mode": {
    "name": "ipython",
    "version": 3
   },
   "file_extension": ".py",
   "mimetype": "text/x-python",
   "name": "python",
   "nbconvert_exporter": "python",
   "pygments_lexer": "ipython3",
   "version": "3.10.7"
  }
 },
 "nbformat": 4,
 "nbformat_minor": 2
}
