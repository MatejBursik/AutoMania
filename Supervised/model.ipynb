{
 "cells": [
  {
   "cell_type": "code",
   "execution_count": 1,
   "metadata": {},
   "outputs": [
    {
     "name": "stdout",
     "output_type": "stream",
     "text": [
      "CUDA is available:  True\n",
      "Number of CUDA devices:  1\n",
      "CUDA current device:  0\n",
      "CUDA device name:  NVIDIA GeForce GTX 1050\n"
     ]
    }
   ],
   "source": [
    "# VENV name: cudaconfig\n",
    "import torch\n",
    "\n",
    "print(\"CUDA is available: \", torch.cuda.is_available())\n",
    "# True\n",
    "\n",
    "print(\"Number of CUDA devices: \", torch.cuda.device_count())\n",
    "# 5\n",
    "\n",
    "print(\"CUDA current device: \", torch.cuda.current_device())\n",
    "# 0\n",
    "\n",
    "print(\"CUDA device name: \", torch.cuda.get_device_name(0))\n",
    "# 'NVIDIA GeForce RTX 3060's"
   ]
  },
  {
   "cell_type": "code",
   "execution_count": 3,
   "metadata": {},
   "outputs": [
    {
     "name": "stdout",
     "output_type": "stream",
     "text": [
      "         frame  steering  throttle  brake                 image_path\n",
      "0  frame_0.jpg         0         1      0  data\\bullshit\\frame_0.jpg\n",
      "1  frame_1.jpg         0         1      0  data\\bullshit\\frame_1.jpg\n",
      "2  frame_2.jpg         0         1      0  data\\bullshit\\frame_2.jpg\n",
      "3  frame_3.jpg         0         1      0  data\\bullshit\\frame_3.jpg\n",
      "4  frame_4.jpg         0         1      0  data\\bullshit\\frame_4.jpg\n"
     ]
    }
   ],
   "source": [
    "import os\n",
    "import pandas as pd\n",
    "\n",
    "# Base path to the data folder\n",
    "base_data_path = 'data'\n",
    "\n",
    "# List all the folders in the base directory\n",
    "folders = [f for f in os.listdir(base_data_path) if os.path.isdir(os.path.join(base_data_path, f))]\n",
    "\n",
    "# Initialize an empty DataFrame to store all the data\n",
    "combined_df = pd.DataFrame()\n",
    "\n",
    "# Loop through each folder\n",
    "for folder in folders:\n",
    "    folder_path = os.path.join(base_data_path, folder)\n",
    "    \n",
    "    # Load the CSV file\n",
    "    csv_file = os.path.join(folder_path, 'controls.csv')\n",
    "    if os.path.exists(csv_file):\n",
    "        df = pd.read_csv(csv_file)\n",
    "        \n",
    "        # Add a new column for the image path\n",
    "        df['image_path'] = df.index.map(lambda i: os.path.join(folder_path, f'frame_{i}.jpg'))\n",
    "        \n",
    "        # Combine with the main DataFrame\n",
    "        combined_df = pd.concat([combined_df, df], ignore_index=True)\n",
    "\n",
    "# Check the combined DataFrame\n",
    "print(combined_df.head())\n"
   ]
  },
  {
   "cell_type": "code",
   "execution_count": 6,
   "metadata": {},
   "outputs": [
    {
     "data": {
      "text/html": [
       "<div>\n",
       "<style scoped>\n",
       "    .dataframe tbody tr th:only-of-type {\n",
       "        vertical-align: middle;\n",
       "    }\n",
       "\n",
       "    .dataframe tbody tr th {\n",
       "        vertical-align: top;\n",
       "    }\n",
       "\n",
       "    .dataframe thead th {\n",
       "        text-align: right;\n",
       "    }\n",
       "</style>\n",
       "<table border=\"1\" class=\"dataframe\">\n",
       "  <thead>\n",
       "    <tr style=\"text-align: right;\">\n",
       "      <th></th>\n",
       "      <th>frame</th>\n",
       "      <th>steering</th>\n",
       "      <th>throttle</th>\n",
       "      <th>brake</th>\n",
       "      <th>image_path</th>\n",
       "    </tr>\n",
       "  </thead>\n",
       "  <tbody>\n",
       "    <tr>\n",
       "      <th>0</th>\n",
       "      <td>frame_0.jpg</td>\n",
       "      <td>0</td>\n",
       "      <td>1</td>\n",
       "      <td>0</td>\n",
       "      <td>data\\bullshit\\frame_0.jpg</td>\n",
       "    </tr>\n",
       "    <tr>\n",
       "      <th>1</th>\n",
       "      <td>frame_1.jpg</td>\n",
       "      <td>0</td>\n",
       "      <td>1</td>\n",
       "      <td>0</td>\n",
       "      <td>data\\bullshit\\frame_1.jpg</td>\n",
       "    </tr>\n",
       "    <tr>\n",
       "      <th>2</th>\n",
       "      <td>frame_2.jpg</td>\n",
       "      <td>0</td>\n",
       "      <td>1</td>\n",
       "      <td>0</td>\n",
       "      <td>data\\bullshit\\frame_2.jpg</td>\n",
       "    </tr>\n",
       "    <tr>\n",
       "      <th>3</th>\n",
       "      <td>frame_3.jpg</td>\n",
       "      <td>0</td>\n",
       "      <td>1</td>\n",
       "      <td>0</td>\n",
       "      <td>data\\bullshit\\frame_3.jpg</td>\n",
       "    </tr>\n",
       "    <tr>\n",
       "      <th>4</th>\n",
       "      <td>frame_4.jpg</td>\n",
       "      <td>0</td>\n",
       "      <td>1</td>\n",
       "      <td>0</td>\n",
       "      <td>data\\bullshit\\frame_4.jpg</td>\n",
       "    </tr>\n",
       "    <tr>\n",
       "      <th>...</th>\n",
       "      <td>...</td>\n",
       "      <td>...</td>\n",
       "      <td>...</td>\n",
       "      <td>...</td>\n",
       "      <td>...</td>\n",
       "    </tr>\n",
       "    <tr>\n",
       "      <th>5279</th>\n",
       "      <td>frame_259.jpg</td>\n",
       "      <td>0</td>\n",
       "      <td>1</td>\n",
       "      <td>0</td>\n",
       "      <td>data\\training21\\frame_435.jpg</td>\n",
       "    </tr>\n",
       "    <tr>\n",
       "      <th>5280</th>\n",
       "      <td>frame_260.jpg</td>\n",
       "      <td>0</td>\n",
       "      <td>1</td>\n",
       "      <td>0</td>\n",
       "      <td>data\\training21\\frame_436.jpg</td>\n",
       "    </tr>\n",
       "    <tr>\n",
       "      <th>5281</th>\n",
       "      <td>frame_261.jpg</td>\n",
       "      <td>0</td>\n",
       "      <td>1</td>\n",
       "      <td>0</td>\n",
       "      <td>data\\training21\\frame_437.jpg</td>\n",
       "    </tr>\n",
       "    <tr>\n",
       "      <th>5282</th>\n",
       "      <td>frame_262.jpg</td>\n",
       "      <td>0</td>\n",
       "      <td>1</td>\n",
       "      <td>0</td>\n",
       "      <td>data\\training21\\frame_438.jpg</td>\n",
       "    </tr>\n",
       "    <tr>\n",
       "      <th>5283</th>\n",
       "      <td>frame_263.jpg</td>\n",
       "      <td>0</td>\n",
       "      <td>0</td>\n",
       "      <td>0</td>\n",
       "      <td>data\\training21\\frame_439.jpg</td>\n",
       "    </tr>\n",
       "  </tbody>\n",
       "</table>\n",
       "<p>5284 rows × 5 columns</p>\n",
       "</div>"
      ],
      "text/plain": [
       "              frame  steering  throttle  brake                     image_path\n",
       "0       frame_0.jpg         0         1      0      data\\bullshit\\frame_0.jpg\n",
       "1       frame_1.jpg         0         1      0      data\\bullshit\\frame_1.jpg\n",
       "2       frame_2.jpg         0         1      0      data\\bullshit\\frame_2.jpg\n",
       "3       frame_3.jpg         0         1      0      data\\bullshit\\frame_3.jpg\n",
       "4       frame_4.jpg         0         1      0      data\\bullshit\\frame_4.jpg\n",
       "...             ...       ...       ...    ...                            ...\n",
       "5279  frame_259.jpg         0         1      0  data\\training21\\frame_435.jpg\n",
       "5280  frame_260.jpg         0         1      0  data\\training21\\frame_436.jpg\n",
       "5281  frame_261.jpg         0         1      0  data\\training21\\frame_437.jpg\n",
       "5282  frame_262.jpg         0         1      0  data\\training21\\frame_438.jpg\n",
       "5283  frame_263.jpg         0         0      0  data\\training21\\frame_439.jpg\n",
       "\n",
       "[5284 rows x 5 columns]"
      ]
     },
     "execution_count": 6,
     "metadata": {},
     "output_type": "execute_result"
    }
   ],
   "source": [
    "combined_df\n"
   ]
  },
  {
   "cell_type": "code",
   "execution_count": 6,
   "metadata": {},
   "outputs": [
    {
     "name": "stdout",
     "output_type": "stream",
     "text": [
      "Training the model\n"
     ]
    },
    {
     "data": {
      "text/html": [
       "\n",
       "<style>\n",
       "    /* Turns off some styling */\n",
       "    progress {\n",
       "        /* gets rid of default border in Firefox and Opera. */\n",
       "        border: none;\n",
       "        /* Needs to be in here for Safari polyfill so background images work as expected. */\n",
       "        background-size: auto;\n",
       "    }\n",
       "    progress:not([value]), progress:not([value])::-webkit-progress-bar {\n",
       "        background: repeating-linear-gradient(45deg, #7e7e7e, #7e7e7e 10px, #5c5c5c 10px, #5c5c5c 20px);\n",
       "    }\n",
       "    .progress-bar-interrupted, .progress-bar-interrupted::-webkit-progress-bar {\n",
       "        background: #F44336;\n",
       "    }\n",
       "</style>\n"
      ],
      "text/plain": [
       "<IPython.core.display.HTML object>"
      ]
     },
     "metadata": {},
     "output_type": "display_data"
    },
    {
     "data": {
      "text/html": [
       "<table border=\"1\" class=\"dataframe\">\n",
       "  <thead>\n",
       "    <tr style=\"text-align: left;\">\n",
       "      <th>epoch</th>\n",
       "      <th>train_loss</th>\n",
       "      <th>valid_loss</th>\n",
       "      <th>time</th>\n",
       "    </tr>\n",
       "  </thead>\n",
       "  <tbody>\n",
       "    <tr>\n",
       "      <td>0</td>\n",
       "      <td>0.728773</td>\n",
       "      <td>0.585586</td>\n",
       "      <td>00:45</td>\n",
       "    </tr>\n",
       "  </tbody>\n",
       "</table>"
      ],
      "text/plain": [
       "<IPython.core.display.HTML object>"
      ]
     },
     "metadata": {},
     "output_type": "display_data"
    },
    {
     "data": {
      "text/html": [
       "\n",
       "<style>\n",
       "    /* Turns off some styling */\n",
       "    progress {\n",
       "        /* gets rid of default border in Firefox and Opera. */\n",
       "        border: none;\n",
       "        /* Needs to be in here for Safari polyfill so background images work as expected. */\n",
       "        background-size: auto;\n",
       "    }\n",
       "    progress:not([value]), progress:not([value])::-webkit-progress-bar {\n",
       "        background: repeating-linear-gradient(45deg, #7e7e7e, #7e7e7e 10px, #5c5c5c 10px, #5c5c5c 20px);\n",
       "    }\n",
       "    .progress-bar-interrupted, .progress-bar-interrupted::-webkit-progress-bar {\n",
       "        background: #F44336;\n",
       "    }\n",
       "</style>\n"
      ],
      "text/plain": [
       "<IPython.core.display.HTML object>"
      ]
     },
     "metadata": {},
     "output_type": "display_data"
    },
    {
     "data": {
      "text/html": [
       "<table border=\"1\" class=\"dataframe\">\n",
       "  <thead>\n",
       "    <tr style=\"text-align: left;\">\n",
       "      <th>epoch</th>\n",
       "      <th>train_loss</th>\n",
       "      <th>valid_loss</th>\n",
       "      <th>time</th>\n",
       "    </tr>\n",
       "  </thead>\n",
       "  <tbody>\n",
       "    <tr>\n",
       "      <td>0</td>\n",
       "      <td>0.638688</td>\n",
       "      <td>0.455145</td>\n",
       "      <td>01:01</td>\n",
       "    </tr>\n",
       "    <tr>\n",
       "      <td>1</td>\n",
       "      <td>0.628212</td>\n",
       "      <td>0.424364</td>\n",
       "      <td>01:06</td>\n",
       "    </tr>\n",
       "    <tr>\n",
       "      <td>2</td>\n",
       "      <td>0.604955</td>\n",
       "      <td>0.305409</td>\n",
       "      <td>01:06</td>\n",
       "    </tr>\n",
       "    <tr>\n",
       "      <td>3</td>\n",
       "      <td>0.585382</td>\n",
       "      <td>0.444560</td>\n",
       "      <td>01:06</td>\n",
       "    </tr>\n",
       "    <tr>\n",
       "      <td>4</td>\n",
       "      <td>0.547881</td>\n",
       "      <td>0.322901</td>\n",
       "      <td>01:02</td>\n",
       "    </tr>\n",
       "    <tr>\n",
       "      <td>5</td>\n",
       "      <td>0.516271</td>\n",
       "      <td>0.280230</td>\n",
       "      <td>01:00</td>\n",
       "    </tr>\n",
       "    <tr>\n",
       "      <td>6</td>\n",
       "      <td>0.485756</td>\n",
       "      <td>0.270969</td>\n",
       "      <td>01:00</td>\n",
       "    </tr>\n",
       "    <tr>\n",
       "      <td>7</td>\n",
       "      <td>0.455555</td>\n",
       "      <td>0.251855</td>\n",
       "      <td>01:00</td>\n",
       "    </tr>\n",
       "    <tr>\n",
       "      <td>8</td>\n",
       "      <td>0.432079</td>\n",
       "      <td>0.247618</td>\n",
       "      <td>01:01</td>\n",
       "    </tr>\n",
       "    <tr>\n",
       "      <td>9</td>\n",
       "      <td>0.415165</td>\n",
       "      <td>0.234608</td>\n",
       "      <td>01:00</td>\n",
       "    </tr>\n",
       "  </tbody>\n",
       "</table>"
      ],
      "text/plain": [
       "<IPython.core.display.HTML object>"
      ]
     },
     "metadata": {},
     "output_type": "display_data"
    },
    {
     "name": "stdout",
     "output_type": "stream",
     "text": [
      "Evaluating the model\n"
     ]
    },
    {
     "data": {
      "text/html": [
       "\n",
       "<style>\n",
       "    /* Turns off some styling */\n",
       "    progress {\n",
       "        /* gets rid of default border in Firefox and Opera. */\n",
       "        border: none;\n",
       "        /* Needs to be in here for Safari polyfill so background images work as expected. */\n",
       "        background-size: auto;\n",
       "    }\n",
       "    progress:not([value]), progress:not([value])::-webkit-progress-bar {\n",
       "        background: repeating-linear-gradient(45deg, #7e7e7e, #7e7e7e 10px, #5c5c5c 10px, #5c5c5c 20px);\n",
       "    }\n",
       "    .progress-bar-interrupted, .progress-bar-interrupted::-webkit-progress-bar {\n",
       "        background: #F44336;\n",
       "    }\n",
       "</style>\n"
      ],
      "text/plain": [
       "<IPython.core.display.HTML object>"
      ]
     },
     "metadata": {},
     "output_type": "display_data"
    },
    {
     "data": {
      "text/html": [],
      "text/plain": [
       "<IPython.core.display.HTML object>"
      ]
     },
     "metadata": {},
     "output_type": "display_data"
    }
   ],
   "source": [
    "from fastai.vision.all import *\n",
    "import pandas as pd\n",
    "\n",
    "# Load the labels CSV\n",
    "labels_df = pd.read_csv('data/test/controls.csv')\n",
    "\n",
    "# Path to images\n",
    "path = Path('data/test')\n",
    "\n",
    "# Define a function to get the control inputs for each image\n",
    "def get_y(row):\n",
    "    return tensor([row['steering'], row['throttle'], row['brake']])\n",
    "\n",
    "def get_x(row):\n",
    "    return path / row['frame']  # Using '/' for path concatenation\n",
    "\n",
    "# DataBlock for regression task\n",
    "dblock = DataBlock(\n",
    "    blocks=(ImageBlock, RegressionBlock),  # Images as input, continuous labels as output\n",
    "    get_x=get_x,  # Get image path\n",
    "    get_y=get_y,  # Get control inputs as a tensor\n",
    "    splitter=RandomSplitter(valid_pct=0.2),  # Split train/validation\n",
    "    item_tfms=Resize((398, 94)),  # Resize images\n",
    "    batch_tfms=aug_transforms()  # Apply augmentations during training\n",
    ")\n",
    "\n",
    "# Create DataLoaders\n",
    "dls = dblock.dataloaders(labels_df)\n",
    "\n",
    "# Define the learner with a pretrained ResNet model\n",
    "learn = vision_learner(\n",
    "    dls, \n",
    "    resnet34, \n",
    "    loss_func=MSELossFlat(),\n",
    "    y_range=(-1., 1.)  # Example y_range for normalized outputs; adjust as needed for your task\n",
    ")\n",
    "\n",
    "print(\"Training the model\")\n",
    "# Train the model for a few epochs\n",
    "learn.fine_tune(10)\n",
    "\n",
    "# Evaluate the model on the validation set\n",
    "print(\"Evaluating the model\")\n",
    "learn.validate()\n",
    "\n",
    "# Save the entire model for future use\n",
    "learn.export('trackmania_learner.pkl')"
   ]
  }
 ],
 "metadata": {
  "kernelspec": {
   "display_name": "Python 3",
   "language": "python",
   "name": "python3"
  },
  "language_info": {
   "codemirror_mode": {
    "name": "ipython",
    "version": 3
   },
   "file_extension": ".py",
   "mimetype": "text/x-python",
   "name": "python",
   "nbconvert_exporter": "python",
   "pygments_lexer": "ipython3",
   "version": "3.10.7"
  }
 },
 "nbformat": 4,
 "nbformat_minor": 2
}
