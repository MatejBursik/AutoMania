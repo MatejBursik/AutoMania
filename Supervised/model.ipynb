{
 "cells": [
  {
   "cell_type": "code",
   "execution_count": 1,
   "metadata": {},
   "outputs": [
    {
     "name": "stdout",
     "output_type": "stream",
     "text": [
      "CUDA is available:  True\n",
      "Number of CUDA devices:  1\n",
      "CUDA current device:  0\n",
      "CUDA device name:  NVIDIA GeForce GTX 1050\n"
     ]
    }
   ],
   "source": [
    "# VENV name: cudaconfig\n",
    "import torch\n",
    "\n",
    "print(\"CUDA is available: \", torch.cuda.is_available())\n",
    "# True\n",
    "\n",
    "print(\"Number of CUDA devices: \", torch.cuda.device_count())\n",
    "# 5\n",
    "\n",
    "print(\"CUDA current device: \", torch.cuda.current_device())\n",
    "# 0\n",
    "\n",
    "print(\"CUDA device name: \", torch.cuda.get_device_name(0))\n",
    "# 'NVIDIA GeForce RTX 3060'"
   ]
  },
  {
   "cell_type": "code",
   "execution_count": 2,
   "metadata": {},
   "outputs": [
    {
     "name": "stdout",
     "output_type": "stream",
     "text": [
      "tensor([[0.9228, 0.8818, 0.9864],\n",
      "        [0.3102, 0.7416, 0.7359],\n",
      "        [0.5965, 0.7917, 0.7936],\n",
      "        [0.1401, 0.8968, 0.8016],\n",
      "        [0.2034, 0.8978, 0.3374]])\n"
     ]
    }
   ],
   "source": [
    "import torch\n",
    "x = torch.rand(5, 3)\n",
    "print(x)"
   ]
  }
 ],
 "metadata": {
  "kernelspec": {
   "display_name": "Python 3",
   "language": "python",
   "name": "python3"
  },
  "language_info": {
   "codemirror_mode": {
    "name": "ipython",
    "version": 3
   },
   "file_extension": ".py",
   "mimetype": "text/x-python",
   "name": "python",
   "nbconvert_exporter": "python",
   "pygments_lexer": "ipython3",
   "version": "3.10.7"
  }
 },
 "nbformat": 4,
 "nbformat_minor": 2
}
